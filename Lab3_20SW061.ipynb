{
  "nbformat": 4,
  "nbformat_minor": 0,
  "metadata": {
    "colab": {
      "provenance": [],
      "authorship_tag": "ABX9TyOETMnebHF9AXb62TI1U2+N",
      "include_colab_link": true
    },
    "kernelspec": {
      "name": "python3",
      "display_name": "Python 3"
    },
    "language_info": {
      "name": "python"
    }
  },
  "cells": [
    {
      "cell_type": "markdown",
      "metadata": {
        "id": "view-in-github",
        "colab_type": "text"
      },
      "source": [
        "<a href=\"https://colab.research.google.com/github/kainat25/DSA-pr--20SW061/blob/main/Lab3_20SW061.ipynb\" target=\"_parent\"><img src=\"https://colab.research.google.com/assets/colab-badge.svg\" alt=\"Open In Colab\"/></a>"
      ]
    },
    {
      "cell_type": "markdown",
      "source": [
        "TASK 1"
      ],
      "metadata": {
        "id": "5rkfMrOBXkDn"
      }
    },
    {
      "cell_type": "code",
      "execution_count": 28,
      "metadata": {
        "colab": {
          "base_uri": "https://localhost:8080/"
        },
        "id": "cVajwCm2v7UA",
        "outputId": "9e117c7c-f69c-48a7-8ec5-64a95fc66712"
      },
      "outputs": [
        {
          "output_type": "stream",
          "name": "stdout",
          "text": [
            "expected result: 10, actual result: 10.0\n",
            "expected result: 7123.6902801, actual result: 7123.690280065897\n"
          ]
        }
      ],
      "source": [
        "def population_density(population, land_area):\n",
        "    return population / land_area\n",
        "\n",
        "test1 = population_density(10, 1)\n",
        "expected_result1 = 10\n",
        "print(\"expected result: {}, actual result: {}\".format(expected_result1, test1))\n",
        "\n",
        "test2 = population_density(864816, 121.4)\n",
        "expected_result2 = 7123.6902801\n",
        "print(\"expected result: {}, actual result: {}\".format(expected_result2, test2))"
      ]
    },
    {
      "cell_type": "markdown",
      "source": [
        "TASK 2"
      ],
      "metadata": {
        "id": "qB-Tg_v1Xrav"
      }
    },
    {
      "cell_type": "code",
      "source": [
        "def readable_timedelta(days):\n",
        "    weeks = days // 7\n",
        "    remaining_days = days % 7\n",
        "    return f\"{weeks} week(s) and {remaining_days} day(s).\"\n",
        "\n",
        "print(readable_timedelta(10))"
      ],
      "metadata": {
        "colab": {
          "base_uri": "https://localhost:8080/"
        },
        "id": "6cV2m_ujwnXe",
        "outputId": "c491ac85-7a10-41c6-d3d2-1b385ae84402"
      },
      "execution_count": 29,
      "outputs": [
        {
          "output_type": "stream",
          "name": "stdout",
          "text": [
            "1 week(s) and 3 day(s).\n"
          ]
        }
      ]
    },
    {
      "cell_type": "markdown",
      "source": [
        "TASK 3"
      ],
      "metadata": {
        "id": "Bg2my48JXzRY"
      }
    },
    {
      "cell_type": "code",
      "source": [
        "numbers = [\n",
        "    [34, 63, 88, 71, 29],\n",
        "    [90, 78, 51, 27, 45],\n",
        "    [63, 37, 85, 46, 22],\n",
        "    [51, 22, 34, 11, 18]\n",
        "]\n",
        "\n",
        "averages = list(map(lambda num_list: sum(num_list) / len(num_list), numbers))\n",
        "print(averages)"
      ],
      "metadata": {
        "colab": {
          "base_uri": "https://localhost:8080/"
        },
        "id": "r4B036tKwuNq",
        "outputId": "a30be7a4-8455-40f2-dd79-796cdba413e0"
      },
      "execution_count": 30,
      "outputs": [
        {
          "output_type": "stream",
          "name": "stdout",
          "text": [
            "[57.0, 58.2, 50.6, 27.2]\n"
          ]
        }
      ]
    },
    {
      "cell_type": "markdown",
      "source": [
        "TASK 4"
      ],
      "metadata": {
        "id": "oXN2YgrsX4tK"
      }
    },
    {
      "cell_type": "code",
      "source": [
        "cities = [\"New York City\", \"Los Angeles\", \"Chicago\", \"Mountain View\", \"Denver\", \"Boston\"]\n",
        "short_cities = list(filter(lambda name: len(name) < 10, cities))\n",
        "print(short_cities)"
      ],
      "metadata": {
        "colab": {
          "base_uri": "https://localhost:8080/"
        },
        "id": "edhdOQ9Rw6Eh",
        "outputId": "e511ae9f-d23a-43e6-a69a-17ede360c678"
      },
      "execution_count": 31,
      "outputs": [
        {
          "output_type": "stream",
          "name": "stdout",
          "text": [
            "['Chicago', 'Denver', 'Boston']\n"
          ]
        }
      ]
    },
    {
      "cell_type": "markdown",
      "source": [
        "TASK 5"
      ],
      "metadata": {
        "id": "yIHEG0_aYABr"
      }
    },
    {
      "cell_type": "code",
      "source": [
        "#Task 5\n",
        "\n",
        "names_input = input(\"Enter a list of student names separated by commas: \")\n",
        "names = names_input.split(',')\n",
        "\n",
        "assignments_input = input(\"Enter a list of the number of missing assignments for each student separated by commas: \")\n",
        "assignments = [int(x) for x in assignments_input.split(',')]\n",
        "\n",
        "grades_input = input(\"Enter a list of grades for each student separated by commas: \")\n",
        "grades = [float(x) for x in grades_input.split(',')]\n",
        "\n",
        "message = \"Hi {},\\n\\nThis is a reminder that you have {} assignments left to submit before you can graduate. Your current grade is {} and can increase to {} if you submit all assignments before the due date.\\n\\n\"\n",
        "\n",
        "for name, assignment_count, grade in zip(names, assignments, grades):\n",
        "    potential_grade = grade + (2 * assignment_count)\n",
        "    print(message.format(name, assignment_count, grade, potential_grade))\n",
        "\n"
      ],
      "metadata": {
        "colab": {
          "base_uri": "https://localhost:8080/"
        },
        "id": "hn0vJ0JexCl7",
        "outputId": "30effd2b-d888-4c6c-9062-f365eaa70967"
      },
      "execution_count": 27,
      "outputs": [
        {
          "output_type": "stream",
          "name": "stdout",
          "text": [
            "Enter a list of student names separated by commas: KAINAT\n",
            "Enter a list of the number of missing assignments for each student separated by commas: 2\n",
            "Enter a list of grades for each student separated by commas: 3\n",
            "Hi KAINAT,\n",
            "\n",
            "This is a reminder that you have 2 assignments left to submit before you can graduate. Your current grade is 3.0 and can increase to 7.0 if you submit all assignments before the due date.\n",
            "\n",
            "\n"
          ]
        }
      ]
    },
    {
      "cell_type": "markdown",
      "source": [
        "TASK 6"
      ],
      "metadata": {
        "id": "GkqAbabOYM1C"
      }
    },
    {
      "cell_type": "code",
      "source": [
        "#Task 6\n",
        "\n",
        "f = open('task6.txt', 'w')\n",
        "f.write(\"We're the knights of the round tableWe dance whenever we're able\")\n",
        "f.close()\n",
        "\n",
        "with open(\"task6.txt\") as song:\n",
        "  print(song.read(2))\n",
        "  print(song.read(8))\n",
        "  print(song.read())\n",
        "\n",
        "\n",
        "camelot_lines = []\n",
        "with open(\"task6.txt\") as f:\n",
        "    for line in f:\n",
        "      camelot_lines.append(line.strip())\n",
        "print(camelot_lines)"
      ],
      "metadata": {
        "colab": {
          "base_uri": "https://localhost:8080/"
        },
        "id": "iuxNQ3yH8RBY",
        "outputId": "b95624bd-c85b-4240-c2bc-f7ade5f5505c"
      },
      "execution_count": 32,
      "outputs": [
        {
          "output_type": "stream",
          "name": "stdout",
          "text": [
            "We\n",
            "'re the \n",
            "knights of the round tableWe dance whenever we're able\n",
            "[\"We're the knights of the round tableWe dance whenever we're able\"]\n"
          ]
        }
      ]
    },
    {
      "cell_type": "code",
      "source": [
        "def create_cast_list(filename):\n",
        "    cast_list = []\n",
        "    with open(filename, 'r') as file:\n",
        "        for line in file:\n",
        "            actor_name, _ = line.strip().split(',', 1)\n",
        "            cast_list.append(actor_name)\n",
        "    return cast_list\n",
        "\n",
        "cast_list = create_cast_list('flying_circus_cast.txt')\n",
        "for actor in cast_list:\n",
        "    print(actor)"
      ],
      "metadata": {
        "id": "V1aDbW8pdNC2"
      },
      "execution_count": null,
      "outputs": []
    }
  ]
}