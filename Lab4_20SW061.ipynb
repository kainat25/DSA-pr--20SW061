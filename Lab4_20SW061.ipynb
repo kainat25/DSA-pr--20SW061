{
  "nbformat": 4,
  "nbformat_minor": 0,
  "metadata": {
    "colab": {
      "provenance": [],
      "authorship_tag": "ABX9TyNXnwH2inPOFbdURYNPMnEn",
      "include_colab_link": true
    },
    "kernelspec": {
      "name": "python3",
      "display_name": "Python 3"
    },
    "language_info": {
      "name": "python"
    }
  },
  "cells": [
    {
      "cell_type": "markdown",
      "metadata": {
        "id": "view-in-github",
        "colab_type": "text"
      },
      "source": [
        "<a href=\"https://colab.research.google.com/github/kainat25/DSA-pr--20SW061/blob/main/Lab4_20SW061.ipynb\" target=\"_parent\"><img src=\"https://colab.research.google.com/assets/colab-badge.svg\" alt=\"Open In Colab\"/></a>"
      ]
    },
    {
      "cell_type": "markdown",
      "source": [
        "TASK1"
      ],
      "metadata": {
        "id": "S6BwL3LNhDCL"
      }
    },
    {
      "cell_type": "code",
      "execution_count": 7,
      "metadata": {
        "colab": {
          "base_uri": "https://localhost:8080/"
        },
        "id": "GoENk4zlg5Zr",
        "outputId": "0b73963b-47e4-4f3e-bdc1-029c57dc7bc4"
      },
      "outputs": [
        {
          "output_type": "stream",
          "name": "stdout",
          "text": [
            "[[ 2  4  6  8]\n",
            " [10 12 14 16]\n",
            " [18 20 22 24]\n",
            " [26 28 30 32]]\n"
          ]
        }
      ],
      "source": [
        "import numpy as np\n",
        "X = np.arange(2, 34, 2).reshape(4, 4)\n",
        "print(X)"
      ]
    },
    {
      "cell_type": "markdown",
      "source": [
        "TASK 2\n"
      ],
      "metadata": {
        "id": "r3tIACLHhNvd"
      }
    },
    {
      "cell_type": "code",
      "source": [
        "import numpy as np\n",
        "\n",
        "X = np.arange(1, 26).reshape(5, 5)\n",
        "Y = X[X % 2 != 0]\n",
        "\n",
        "print(X)\n",
        "print(Y)\n"
      ],
      "metadata": {
        "colab": {
          "base_uri": "https://localhost:8080/"
        },
        "id": "7azMRfFvhPma",
        "outputId": "62550fe7-b69e-4090-8061-1881ed457e64"
      },
      "execution_count": 8,
      "outputs": [
        {
          "output_type": "stream",
          "name": "stdout",
          "text": [
            "[[ 1  2  3  4  5]\n",
            " [ 6  7  8  9 10]\n",
            " [11 12 13 14 15]\n",
            " [16 17 18 19 20]\n",
            " [21 22 23 24 25]]\n",
            "[ 1  3  5  7  9 11 13 15 17 19 21 23 25]\n"
          ]
        }
      ]
    },
    {
      "cell_type": "markdown",
      "source": [
        "TASK 3"
      ],
      "metadata": {
        "id": "cXYF8Gs6hTvi"
      }
    },
    {
      "cell_type": "code",
      "source": [
        "import numpy as np\n",
        "X = np.arange(1, 5).reshape(4, 1) * np.ones((1, 4))\n",
        "\n",
        "print(X)\n"
      ],
      "metadata": {
        "colab": {
          "base_uri": "https://localhost:8080/"
        },
        "id": "PFgkYvkQhUKT",
        "outputId": "49287b48-a7e7-4d82-a0b7-db2891d146b2"
      },
      "execution_count": 9,
      "outputs": [
        {
          "output_type": "stream",
          "name": "stdout",
          "text": [
            "[[1. 1. 1. 1.]\n",
            " [2. 2. 2. 2.]\n",
            " [3. 3. 3. 3.]\n",
            " [4. 4. 4. 4.]]\n"
          ]
        }
      ]
    },
    {
      "cell_type": "markdown",
      "source": [
        "TASK 4"
      ],
      "metadata": {
        "id": "2bkv8jBuhm5p"
      }
    },
    {
      "cell_type": "code",
      "source": [
        "from google.colab import drive\n",
        "drive.mount('/NumPy.ipnyb')\n",
        "\n",
        "import numpy as np\n",
        "\n",
        "# Create a 1000x20 ndarray with random integers in the range [0, 5001)\n",
        "X = np.random.randint(0, 5001, size=(1000, 20))\n",
        "# Print the shape of X\n",
        "print(X.shape)\n",
        "\n",
        "# Calculate the average of the values in each column of X\n",
        "ave_cols = np.mean(X, axis=0)\n",
        "\n",
        "# Calculate the standard deviation of the values in each column of X\n",
        "std_cols = np.std(X, axis=0)\n",
        "\n",
        "\n",
        "print(\"Shape of ave_cols:\", ave_cols.shape)\n",
        "print(\"Shape of std_cols:\", std_cols.shape)\n",
        "\n",
        "# Mean normalize X\n",
        "X_norm = (X - ave_cols) / std_cols\n",
        "\n",
        "print(\"Mean normalized X:\")\n",
        "print(X_norm)\n",
        "\n",
        "# Print the average of all the values of X_norm\n",
        "ave_all_values = np.mean(X_norm)\n",
        "print(\"Average of all values in X_norm:\", ave_all_values)\n",
        "\n",
        "# Print the average of the minimum value in each column of X_norm\n",
        "ave_min_values = np.mean(np.min(X_norm, axis=0))\n",
        "print(\"Average of minimum values in each column of X_norm:\", ave_min_values)\n",
        "\n",
        "# Print the average of the maximum value in each column of X_norm\n",
        "ave_max_values = np.mean(np.max(X_norm, axis=0))\n",
        "print(\"Average of maximum values in each column of X_norm:\", ave_max_values)\n",
        "\n",
        "# We create a random permutation of integers 0 to 4\n",
        "np.random.permutation(5)\n",
        "\n",
        "# Create a random permutation of row indices of X_norm\n",
        "row_indices = np.random.permutation(X_norm.shape[0])\n",
        "\n",
        "print(\"Random permutation of row indices:\", row_indices)\n",
        "\n",
        "\n",
        "# Define the ratios for training, cross-validation, and test sets\n",
        "train_ratio = 0.6\n",
        "cross_val_ratio = 0.2\n",
        "test_ratio = 0.2\n",
        "\n",
        "# Calculate the sizes of each set based on the ratios\n",
        "num_rows = X_norm.shape[0]\n",
        "num_train = int(train_ratio * num_rows)\n",
        "num_cross_val = int(cross_val_ratio * num_rows)\n",
        "num_test = int(test_ratio * num_rows)\n",
        "\n",
        "# Use row_indices to split the data into sets\n",
        "X_train = X_norm[row_indices[:num_train]]\n",
        "X_crossVal = X_norm[row_indices[num_train:num_train + num_cross_val]]\n",
        "X_test = X_norm[row_indices[num_train + num_cross_val:]]\n",
        "\n",
        "print(\"X_train shape:\", X_train.shape)\n",
        "print(\"X_crossVal shape:\", X_crossVal.shape)\n",
        "print(\"X_test shape:\", X_test.shape)"
      ],
      "metadata": {
        "colab": {
          "base_uri": "https://localhost:8080/"
        },
        "id": "_mnWVT3OhoOM",
        "outputId": "98256ef6-5625-4800-c6b7-a28e2af1e6ed"
      },
      "execution_count": 10,
      "outputs": [
        {
          "output_type": "stream",
          "name": "stdout",
          "text": [
            "Mounted at /NumPy.ipnyb\n",
            "(1000, 20)\n",
            "Shape of ave_cols: (20,)\n",
            "Shape of std_cols: (20,)\n",
            "Mean normalized X:\n",
            "[[ 1.66749049  0.97800401 -0.85309509 ...  0.37858139 -1.73067943\n",
            "  -0.71742101]\n",
            " [ 0.61590322 -0.16302138 -0.32176229 ... -1.39705836 -0.43487904\n",
            "  -0.6095008 ]\n",
            " [ 0.52705624 -1.11480695 -0.69977166 ... -0.75725016  0.95573601\n",
            "  -0.54931454]\n",
            " ...\n",
            " [ 1.2107615  -0.65951407  0.18696061 ...  0.0524856   0.584203\n",
            "  -1.25978922]\n",
            " [ 0.7581972   0.38724056  0.4144728  ...  0.12816184 -0.55778694\n",
            "   0.79346186]\n",
            " [-0.79246021 -1.38504981 -0.17833069 ...  0.44187425  0.98453158\n",
            "  -1.30268058]]\n",
            "Average of all values in X_norm: -1.5631940186722205e-17\n",
            "Average of minimum values in each column of X_norm: -1.7303669199019283\n",
            "Average of maximum values in each column of X_norm: 1.7410325171010648\n",
            "Random permutation of row indices: [497 747 877 905 154 220 762  14 378 494 104 123  31 857 702 202 850 266\n",
            " 208 729 771 401 700 227 119 912 128 199 556 415 336 655  21   1 863 409\n",
            " 817 287 684 318  12 790 967 394  56 646 979 625 540 493 895 600 638 450\n",
            " 492 791 397 871 280 153 532 484 632 420 699 533 951 403   4  66 288 880\n",
            " 198  47  65 155 812 172 338 196 224 457 908 542 575 864 410 667 760 162\n",
            " 509 511 712 709 109 325 276 440 659 585 381 930 151 715 968  71 841 508\n",
            " 234 569 416 263 247 404 640 858 215 108 733 937 620 375 955  83 952 939\n",
            " 618 248  36 379 635 278 430 806 485  74 239 113 370  11 658   6 463 368\n",
            " 748 945 310 120 466 621  69  94 181 480 425 809 422 992 687 228 606  49\n",
            " 736 268 352 412 579 695  91 644 475 146 491 765 918 691 558 580 910 200\n",
            " 631 897 933 594 218 308 193 651 322 764  28  23 419 423 207 818 997 505\n",
            " 304 160 367 559  51 682 382 683 942 459 369 486 103 391 923 867 226 514\n",
            " 785 148 773 994 315 833 815 986 946 549 613 536  18 589 286 745 267 879\n",
            " 964 711 739 258 442 534 139 783 904 421 972 956 348 246 882 893 611 679\n",
            " 966 426 467 554 839 960 271 628  59 537  45 612 935 838 136 854 487 853\n",
            " 244 431  92 896 101 807  73 517 705 217 642 432 299 708 250  55 779 141\n",
            " 694 886 563 539 978 741 117 306 194 957 763 617 775 359 587 719 192  22\n",
            " 637  42 303  53 704 166 832 849 566  77 229 914 887 495 519 366 553 326\n",
            " 349 527 664 152 582 834 503 831 386 275 820 473 174 913 728 557 157 178\n",
            " 947 789 792 339  62 981 289 784 565 865 241 722 499 334 518  90 920  75\n",
            " 916 907 398 329 332 134 825 996 869 936 209 163 866 786 633  82  19 721\n",
            " 795  25 471 706 526 259 873 350  34 481 901 856 307 474 874 862  54 803\n",
            " 977 363 928 313 384 703 950 214 605 974 346 829 305 171 254 670 277 501\n",
            "  63 548 984  50 406 147 469 243 437  16 395 185 531 341 872  57 643 725\n",
            " 253 387 470 727 362  30 921 911 500 801 743 969 150 889 656 649  17 560\n",
            " 173 561 581  43 453 652 720   3 751 657 938  79 294 476 754 756 770 898\n",
            " 759 257 282 909 681 995 345  72 876 236 989 112 521 578 390 264 393  24\n",
            " 698 671 689 592 813  85 353 361 290 925 778 360 564 418 180 616 899 926\n",
            " 688 634 811 629 870  46 351  48 216 735 599 186 328 233 424 816 828 144\n",
            " 323 472 281  87 819 742 265 608 451 522 111 875 597 844 211 878 602 525\n",
            " 110 100 260 943 973 190 810 270 133 668 999 788 284 948 827 427 758  99\n",
            " 802 591 135 291 941  37 954 232 766 894 761 204 753 676 734 588 891 749\n",
            " 251 159 400 890 504 237 680  98 650 881 293  39 701 444 859 919 998 571\n",
            " 663 358 170 535 716 488 158 696 165 714 274 447 255 132 197 639 140 776\n",
            " 269 692 836 182 184 568 261 222 987 604 572  13  27  33 311 145 726 417\n",
            " 805 768 434 835 408  70 188 906 647 436 252  93 609 601 441 769 179 551\n",
            " 373 428 187 126 321 300 842 971 990 917 673 458  40 343 851 787 740  15\n",
            " 686 718  52 477 107 619 665 407 127 593 414 623  96 576 115 985 413 622\n",
            " 355 439 648 793 167  64 980 498 512 523 125 515 847 405 330 573 464 717\n",
            " 915 846 402 595 794   9 884 206 545 970 796 543 388 377 547 661 590 482\n",
            " 848 478  60 710 583 201 309 732 489 169 392 212 435 507 242   2 465 396\n",
            " 520 455 885 662 929 861 319 697 238 883 976 449 385   0 707 468 830 221\n",
            " 456 223 674 636  29 365 615 603 129 213 364 767 814 963 483 183 445 189\n",
            " 389 272 177 823 143 142 837 544 932 737 528 273 843 225 102 541 121 256\n",
            " 292 570  10 175 777 479 975 429 333 840  35   8 302 337 460 723 824 755\n",
            " 586 546 888 506 965 448 262  80 798 983 738  38 344 962 240 347 513  84\n",
            " 230 168  86 285 713 991 626 524 958 855 953 675 335 730 800 376 624 314\n",
            " 371 529 296 944 283 826 653 461 959  61 331 130 931 320 757 550 693 660\n",
            " 502 249 438 752 577 641 900 354 892 949 316 138 219  95 203 161   5 669\n",
            " 443 106 746 744 627 131 297 114 433 672 231 490 538 555  20  68 630 454\n",
            "  58  97 156 164 868 666 235 312 562 279 902 982 903  44 195 774 596 510\n",
            " 399 584  89 122 799 383 781 961 372 993 317 298 176 105 654 782  76 934\n",
            " 380 731 988 924 614  88 118  81 356 327 342 607 462 516 922 124 690 804\n",
            " 374 772 411  41 750 724 780 301  67 852 324 567 295 452 845 137 822  32\n",
            " 927 149 245 446 685 677 116 496 552   7 821 645 530 860 598 357 610  78\n",
            " 191 940 210 808  26 678 205 797 574 340]\n",
            "X_train shape: (600, 20)\n",
            "X_crossVal shape: (200, 20)\n",
            "X_test shape: (200, 20)\n"
          ]
        }
      ]
    }
  ]
}