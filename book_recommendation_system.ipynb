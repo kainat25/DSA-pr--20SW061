{
  "metadata": {
    "kernelspec": {
      "language": "python",
      "display_name": "Python 3",
      "name": "python3"
    },
    "language_info": {
      "name": "python",
      "version": "3.7.10",
      "mimetype": "text/x-python",
      "codemirror_mode": {
        "name": "ipython",
        "version": 3
      },
      "pygments_lexer": "ipython3",
      "nbconvert_exporter": "python",
      "file_extension": ".py"
    },
    "colab": {
      "provenance": [],
      "include_colab_link": true
    }
  },
  "nbformat_minor": 0,
  "nbformat": 4,
  "cells": [
    {
      "cell_type": "markdown",
      "metadata": {
        "id": "view-in-github",
        "colab_type": "text"
      },
      "source": [
        "<a href=\"https://colab.research.google.com/github/kainat25/DSA-pr--20SW061/blob/main/book_recommendation_system.ipynb\" target=\"_parent\"><img src=\"https://colab.research.google.com/assets/colab-badge.svg\" alt=\"Open In Colab\"/></a>"
      ]
    },
    {
      "cell_type": "code",
      "source": [
        "import numpy as np # linear algebra\n",
        "import pandas as pd # data processing, CSV file I/O (e.g. pd.read_csv)"
      ],
      "metadata": {
        "_uuid": "8f2839f25d086af736a60e9eeb907d3b93b6e0e5",
        "_cell_guid": "b1076dfc-b9ad-4769-8c92-a6c4dae69d19",
        "execution": {
          "iopub.status.busy": "2021-11-03T17:54:32.161416Z",
          "iopub.execute_input": "2021-11-03T17:54:32.161790Z",
          "iopub.status.idle": "2021-11-03T17:54:32.185881Z",
          "shell.execute_reply.started": "2021-11-03T17:54:32.161692Z",
          "shell.execute_reply": "2021-11-03T17:54:32.185220Z"
        },
        "trusted": true,
        "id": "XVkWHaYKL6TE"
      },
      "execution_count": null,
      "outputs": []
    },
    {
      "cell_type": "code",
      "source": [
        "book_df = pd.read_csv('Books.csv')\n",
        "ratings_df = pd.read_csv('Ratings.csv').sample(40000)\n",
        "user_df = pd.read_csv('Users.csv')\n",
        "user_rating_df = ratings_df.merge(user_df, left_on = 'User-ID', right_on = 'User-ID')"
      ],
      "metadata": {
        "execution": {
          "iopub.status.busy": "2021-11-03T17:54:32.187010Z",
          "iopub.execute_input": "2021-11-03T17:54:32.187500Z",
          "iopub.status.idle": "2021-11-03T17:54:36.142789Z",
          "shell.execute_reply.started": "2021-11-03T17:54:32.187468Z",
          "shell.execute_reply": "2021-11-03T17:54:36.141684Z"
        },
        "trusted": true,
        "id": "2m7W5LcJL6TH"
      },
      "execution_count": null,
      "outputs": []
    },
    {
      "cell_type": "markdown",
      "source": [
        "# Collaborative Filtering"
      ],
      "metadata": {
        "id": "IgrkYf1DL6TJ"
      }
    },
    {
      "cell_type": "code",
      "source": [
        "book_user_rating = book_df.merge(user_rating_df, left_on = 'ISBN',right_on = 'ISBN')\n",
        "book_user_rating = book_user_rating[['ISBN', 'Book-Title', 'Book-Author', 'User-ID', 'Book-Rating']]\n",
        "book_user_rating.reset_index(drop=True, inplace = True)"
      ],
      "metadata": {
        "execution": {
          "iopub.status.busy": "2021-11-03T17:54:36.144578Z",
          "iopub.execute_input": "2021-11-03T17:54:36.145209Z",
          "iopub.status.idle": "2021-11-03T17:54:36.339618Z",
          "shell.execute_reply.started": "2021-11-03T17:54:36.145156Z",
          "shell.execute_reply": "2021-11-03T17:54:36.338414Z"
        },
        "trusted": true,
        "id": "yrHxdNrmL6TK"
      },
      "execution_count": null,
      "outputs": []
    },
    {
      "cell_type": "code",
      "source": [
        "d ={}\n",
        "for i,j in enumerate(book_user_rating.ISBN.unique()):\n",
        "    d[j] =i\n",
        "book_user_rating['unique_id_book'] = book_user_rating['ISBN'].map(d)\n"
      ],
      "metadata": {
        "execution": {
          "iopub.status.busy": "2021-11-03T17:54:36.340898Z",
          "iopub.execute_input": "2021-11-03T17:54:36.341146Z",
          "iopub.status.idle": "2021-11-03T17:54:36.385358Z",
          "shell.execute_reply.started": "2021-11-03T17:54:36.341115Z",
          "shell.execute_reply": "2021-11-03T17:54:36.384192Z"
        },
        "trusted": true,
        "id": "w1qKfEGvL6TL"
      },
      "execution_count": null,
      "outputs": []
    },
    {
      "cell_type": "code",
      "source": [
        "users_books_pivot_matrix_df = book_user_rating.pivot(index='User-ID',\n",
        "                                                          columns='unique_id_book',\n",
        "                                                          values='Book-Rating').fillna(0)\n",
        "\n"
      ],
      "metadata": {
        "execution": {
          "iopub.status.busy": "2021-11-03T17:54:36.387560Z",
          "iopub.execute_input": "2021-11-03T17:54:36.387805Z",
          "iopub.status.idle": "2021-11-03T17:54:41.276137Z",
          "shell.execute_reply.started": "2021-11-03T17:54:36.387778Z",
          "shell.execute_reply": "2021-11-03T17:54:41.275094Z"
        },
        "trusted": true,
        "id": "YCVzApoyL6TL"
      },
      "execution_count": null,
      "outputs": []
    },
    {
      "cell_type": "code",
      "source": [
        "users_books_pivot_matrix_df.head()"
      ],
      "metadata": {
        "execution": {
          "iopub.status.busy": "2021-11-03T17:54:41.277472Z",
          "iopub.execute_input": "2021-11-03T17:54:41.277700Z",
          "iopub.status.idle": "2021-11-03T17:54:41.314733Z",
          "shell.execute_reply.started": "2021-11-03T17:54:41.277673Z",
          "shell.execute_reply": "2021-11-03T17:54:41.313870Z"
        },
        "trusted": true,
        "colab": {
          "base_uri": "https://localhost:8080/",
          "height": 267
        },
        "id": "PWpQjIb8L6TM",
        "outputId": "67817984-e399-4336-f38f-ddd7576aaf25"
      },
      "execution_count": null,
      "outputs": [
        {
          "output_type": "execute_result",
          "data": {
            "text/plain": [
              "unique_id_book  0     1     2     3     4     5     6     7     8     9     \\\n",
              "User-ID                                                                      \n",
              "12               0.0   0.0   0.0  10.0   0.0   0.0   0.0   0.0   0.0   0.0   \n",
              "19               0.0   0.0   0.0   0.0   0.0   0.0   0.0   7.0   0.0   0.0   \n",
              "22               0.0   0.0   0.0   0.0   0.0   0.0   0.0   0.0   0.0   0.0   \n",
              "26               0.0   0.0   0.0   0.0   0.0   0.0   0.0   0.0   0.0   0.0   \n",
              "42               0.0   0.0   0.0   0.0   0.0   0.0   0.0   0.0   0.0   0.0   \n",
              "\n",
              "unique_id_book  ...  9550  9551  9552  9553  9554  9555  9556  9557  9558  \\\n",
              "User-ID         ...                                                         \n",
              "12              ...   0.0   0.0   0.0   0.0   0.0   0.0   0.0   0.0   0.0   \n",
              "19              ...   0.0   0.0   0.0   0.0   0.0   0.0   0.0   0.0   0.0   \n",
              "22              ...   0.0   0.0   0.0   0.0   0.0   0.0   0.0   0.0   0.0   \n",
              "26              ...   0.0   0.0   0.0   0.0   0.0   0.0   0.0   0.0   0.0   \n",
              "42              ...   0.0   0.0   0.0   0.0   0.0   0.0   0.0   0.0   0.0   \n",
              "\n",
              "unique_id_book  9559  \n",
              "User-ID               \n",
              "12               0.0  \n",
              "19               0.0  \n",
              "22               0.0  \n",
              "26               0.0  \n",
              "42               0.0  \n",
              "\n",
              "[5 rows x 9560 columns]"
            ],
            "text/html": [
              "\n",
              "  <div id=\"df-d9d676b8-d9e9-44e8-a857-7b2ec449857f\" class=\"colab-df-container\">\n",
              "    <div>\n",
              "<style scoped>\n",
              "    .dataframe tbody tr th:only-of-type {\n",
              "        vertical-align: middle;\n",
              "    }\n",
              "\n",
              "    .dataframe tbody tr th {\n",
              "        vertical-align: top;\n",
              "    }\n",
              "\n",
              "    .dataframe thead th {\n",
              "        text-align: right;\n",
              "    }\n",
              "</style>\n",
              "<table border=\"1\" class=\"dataframe\">\n",
              "  <thead>\n",
              "    <tr style=\"text-align: right;\">\n",
              "      <th>unique_id_book</th>\n",
              "      <th>0</th>\n",
              "      <th>1</th>\n",
              "      <th>2</th>\n",
              "      <th>3</th>\n",
              "      <th>4</th>\n",
              "      <th>5</th>\n",
              "      <th>6</th>\n",
              "      <th>7</th>\n",
              "      <th>8</th>\n",
              "      <th>9</th>\n",
              "      <th>...</th>\n",
              "      <th>9550</th>\n",
              "      <th>9551</th>\n",
              "      <th>9552</th>\n",
              "      <th>9553</th>\n",
              "      <th>9554</th>\n",
              "      <th>9555</th>\n",
              "      <th>9556</th>\n",
              "      <th>9557</th>\n",
              "      <th>9558</th>\n",
              "      <th>9559</th>\n",
              "    </tr>\n",
              "    <tr>\n",
              "      <th>User-ID</th>\n",
              "      <th></th>\n",
              "      <th></th>\n",
              "      <th></th>\n",
              "      <th></th>\n",
              "      <th></th>\n",
              "      <th></th>\n",
              "      <th></th>\n",
              "      <th></th>\n",
              "      <th></th>\n",
              "      <th></th>\n",
              "      <th></th>\n",
              "      <th></th>\n",
              "      <th></th>\n",
              "      <th></th>\n",
              "      <th></th>\n",
              "      <th></th>\n",
              "      <th></th>\n",
              "      <th></th>\n",
              "      <th></th>\n",
              "      <th></th>\n",
              "      <th></th>\n",
              "    </tr>\n",
              "  </thead>\n",
              "  <tbody>\n",
              "    <tr>\n",
              "      <th>12</th>\n",
              "      <td>0.0</td>\n",
              "      <td>0.0</td>\n",
              "      <td>0.0</td>\n",
              "      <td>10.0</td>\n",
              "      <td>0.0</td>\n",
              "      <td>0.0</td>\n",
              "      <td>0.0</td>\n",
              "      <td>0.0</td>\n",
              "      <td>0.0</td>\n",
              "      <td>0.0</td>\n",
              "      <td>...</td>\n",
              "      <td>0.0</td>\n",
              "      <td>0.0</td>\n",
              "      <td>0.0</td>\n",
              "      <td>0.0</td>\n",
              "      <td>0.0</td>\n",
              "      <td>0.0</td>\n",
              "      <td>0.0</td>\n",
              "      <td>0.0</td>\n",
              "      <td>0.0</td>\n",
              "      <td>0.0</td>\n",
              "    </tr>\n",
              "    <tr>\n",
              "      <th>19</th>\n",
              "      <td>0.0</td>\n",
              "      <td>0.0</td>\n",
              "      <td>0.0</td>\n",
              "      <td>0.0</td>\n",
              "      <td>0.0</td>\n",
              "      <td>0.0</td>\n",
              "      <td>0.0</td>\n",
              "      <td>7.0</td>\n",
              "      <td>0.0</td>\n",
              "      <td>0.0</td>\n",
              "      <td>...</td>\n",
              "      <td>0.0</td>\n",
              "      <td>0.0</td>\n",
              "      <td>0.0</td>\n",
              "      <td>0.0</td>\n",
              "      <td>0.0</td>\n",
              "      <td>0.0</td>\n",
              "      <td>0.0</td>\n",
              "      <td>0.0</td>\n",
              "      <td>0.0</td>\n",
              "      <td>0.0</td>\n",
              "    </tr>\n",
              "    <tr>\n",
              "      <th>22</th>\n",
              "      <td>0.0</td>\n",
              "      <td>0.0</td>\n",
              "      <td>0.0</td>\n",
              "      <td>0.0</td>\n",
              "      <td>0.0</td>\n",
              "      <td>0.0</td>\n",
              "      <td>0.0</td>\n",
              "      <td>0.0</td>\n",
              "      <td>0.0</td>\n",
              "      <td>0.0</td>\n",
              "      <td>...</td>\n",
              "      <td>0.0</td>\n",
              "      <td>0.0</td>\n",
              "      <td>0.0</td>\n",
              "      <td>0.0</td>\n",
              "      <td>0.0</td>\n",
              "      <td>0.0</td>\n",
              "      <td>0.0</td>\n",
              "      <td>0.0</td>\n",
              "      <td>0.0</td>\n",
              "      <td>0.0</td>\n",
              "    </tr>\n",
              "    <tr>\n",
              "      <th>26</th>\n",
              "      <td>0.0</td>\n",
              "      <td>0.0</td>\n",
              "      <td>0.0</td>\n",
              "      <td>0.0</td>\n",
              "      <td>0.0</td>\n",
              "      <td>0.0</td>\n",
              "      <td>0.0</td>\n",
              "      <td>0.0</td>\n",
              "      <td>0.0</td>\n",
              "      <td>0.0</td>\n",
              "      <td>...</td>\n",
              "      <td>0.0</td>\n",
              "      <td>0.0</td>\n",
              "      <td>0.0</td>\n",
              "      <td>0.0</td>\n",
              "      <td>0.0</td>\n",
              "      <td>0.0</td>\n",
              "      <td>0.0</td>\n",
              "      <td>0.0</td>\n",
              "      <td>0.0</td>\n",
              "      <td>0.0</td>\n",
              "    </tr>\n",
              "    <tr>\n",
              "      <th>42</th>\n",
              "      <td>0.0</td>\n",
              "      <td>0.0</td>\n",
              "      <td>0.0</td>\n",
              "      <td>0.0</td>\n",
              "      <td>0.0</td>\n",
              "      <td>0.0</td>\n",
              "      <td>0.0</td>\n",
              "      <td>0.0</td>\n",
              "      <td>0.0</td>\n",
              "      <td>0.0</td>\n",
              "      <td>...</td>\n",
              "      <td>0.0</td>\n",
              "      <td>0.0</td>\n",
              "      <td>0.0</td>\n",
              "      <td>0.0</td>\n",
              "      <td>0.0</td>\n",
              "      <td>0.0</td>\n",
              "      <td>0.0</td>\n",
              "      <td>0.0</td>\n",
              "      <td>0.0</td>\n",
              "      <td>0.0</td>\n",
              "    </tr>\n",
              "  </tbody>\n",
              "</table>\n",
              "<p>5 rows × 9560 columns</p>\n",
              "</div>\n",
              "    <div class=\"colab-df-buttons\">\n",
              "\n",
              "  <div class=\"colab-df-container\">\n",
              "    <button class=\"colab-df-convert\" onclick=\"convertToInteractive('df-d9d676b8-d9e9-44e8-a857-7b2ec449857f')\"\n",
              "            title=\"Convert this dataframe to an interactive table.\"\n",
              "            style=\"display:none;\">\n",
              "\n",
              "  <svg xmlns=\"http://www.w3.org/2000/svg\" height=\"24px\" viewBox=\"0 -960 960 960\">\n",
              "    <path d=\"M120-120v-720h720v720H120Zm60-500h600v-160H180v160Zm220 220h160v-160H400v160Zm0 220h160v-160H400v160ZM180-400h160v-160H180v160Zm440 0h160v-160H620v160ZM180-180h160v-160H180v160Zm440 0h160v-160H620v160Z\"/>\n",
              "  </svg>\n",
              "    </button>\n",
              "\n",
              "  <style>\n",
              "    .colab-df-container {\n",
              "      display:flex;\n",
              "      gap: 12px;\n",
              "    }\n",
              "\n",
              "    .colab-df-convert {\n",
              "      background-color: #E8F0FE;\n",
              "      border: none;\n",
              "      border-radius: 50%;\n",
              "      cursor: pointer;\n",
              "      display: none;\n",
              "      fill: #1967D2;\n",
              "      height: 32px;\n",
              "      padding: 0 0 0 0;\n",
              "      width: 32px;\n",
              "    }\n",
              "\n",
              "    .colab-df-convert:hover {\n",
              "      background-color: #E2EBFA;\n",
              "      box-shadow: 0px 1px 2px rgba(60, 64, 67, 0.3), 0px 1px 3px 1px rgba(60, 64, 67, 0.15);\n",
              "      fill: #174EA6;\n",
              "    }\n",
              "\n",
              "    .colab-df-buttons div {\n",
              "      margin-bottom: 4px;\n",
              "    }\n",
              "\n",
              "    [theme=dark] .colab-df-convert {\n",
              "      background-color: #3B4455;\n",
              "      fill: #D2E3FC;\n",
              "    }\n",
              "\n",
              "    [theme=dark] .colab-df-convert:hover {\n",
              "      background-color: #434B5C;\n",
              "      box-shadow: 0px 1px 3px 1px rgba(0, 0, 0, 0.15);\n",
              "      filter: drop-shadow(0px 1px 2px rgba(0, 0, 0, 0.3));\n",
              "      fill: #FFFFFF;\n",
              "    }\n",
              "  </style>\n",
              "\n",
              "    <script>\n",
              "      const buttonEl =\n",
              "        document.querySelector('#df-d9d676b8-d9e9-44e8-a857-7b2ec449857f button.colab-df-convert');\n",
              "      buttonEl.style.display =\n",
              "        google.colab.kernel.accessAllowed ? 'block' : 'none';\n",
              "\n",
              "      async function convertToInteractive(key) {\n",
              "        const element = document.querySelector('#df-d9d676b8-d9e9-44e8-a857-7b2ec449857f');\n",
              "        const dataTable =\n",
              "          await google.colab.kernel.invokeFunction('convertToInteractive',\n",
              "                                                    [key], {});\n",
              "        if (!dataTable) return;\n",
              "\n",
              "        const docLinkHtml = 'Like what you see? Visit the ' +\n",
              "          '<a target=\"_blank\" href=https://colab.research.google.com/notebooks/data_table.ipynb>data table notebook</a>'\n",
              "          + ' to learn more about interactive tables.';\n",
              "        element.innerHTML = '';\n",
              "        dataTable['output_type'] = 'display_data';\n",
              "        await google.colab.output.renderOutput(dataTable, element);\n",
              "        const docLink = document.createElement('div');\n",
              "        docLink.innerHTML = docLinkHtml;\n",
              "        element.appendChild(docLink);\n",
              "      }\n",
              "    </script>\n",
              "  </div>\n",
              "\n",
              "\n",
              "<div id=\"df-b13c94f2-fb17-4cbe-a3c1-25ec7e76bb04\">\n",
              "  <button class=\"colab-df-quickchart\" onclick=\"quickchart('df-b13c94f2-fb17-4cbe-a3c1-25ec7e76bb04')\"\n",
              "            title=\"Suggest charts.\"\n",
              "            style=\"display:none;\">\n",
              "\n",
              "<svg xmlns=\"http://www.w3.org/2000/svg\" height=\"24px\"viewBox=\"0 0 24 24\"\n",
              "     width=\"24px\">\n",
              "    <g>\n",
              "        <path d=\"M19 3H5c-1.1 0-2 .9-2 2v14c0 1.1.9 2 2 2h14c1.1 0 2-.9 2-2V5c0-1.1-.9-2-2-2zM9 17H7v-7h2v7zm4 0h-2V7h2v10zm4 0h-2v-4h2v4z\"/>\n",
              "    </g>\n",
              "</svg>\n",
              "  </button>\n",
              "\n",
              "<style>\n",
              "  .colab-df-quickchart {\n",
              "      --bg-color: #E8F0FE;\n",
              "      --fill-color: #1967D2;\n",
              "      --hover-bg-color: #E2EBFA;\n",
              "      --hover-fill-color: #174EA6;\n",
              "      --disabled-fill-color: #AAA;\n",
              "      --disabled-bg-color: #DDD;\n",
              "  }\n",
              "\n",
              "  [theme=dark] .colab-df-quickchart {\n",
              "      --bg-color: #3B4455;\n",
              "      --fill-color: #D2E3FC;\n",
              "      --hover-bg-color: #434B5C;\n",
              "      --hover-fill-color: #FFFFFF;\n",
              "      --disabled-bg-color: #3B4455;\n",
              "      --disabled-fill-color: #666;\n",
              "  }\n",
              "\n",
              "  .colab-df-quickchart {\n",
              "    background-color: var(--bg-color);\n",
              "    border: none;\n",
              "    border-radius: 50%;\n",
              "    cursor: pointer;\n",
              "    display: none;\n",
              "    fill: var(--fill-color);\n",
              "    height: 32px;\n",
              "    padding: 0;\n",
              "    width: 32px;\n",
              "  }\n",
              "\n",
              "  .colab-df-quickchart:hover {\n",
              "    background-color: var(--hover-bg-color);\n",
              "    box-shadow: 0 1px 2px rgba(60, 64, 67, 0.3), 0 1px 3px 1px rgba(60, 64, 67, 0.15);\n",
              "    fill: var(--button-hover-fill-color);\n",
              "  }\n",
              "\n",
              "  .colab-df-quickchart-complete:disabled,\n",
              "  .colab-df-quickchart-complete:disabled:hover {\n",
              "    background-color: var(--disabled-bg-color);\n",
              "    fill: var(--disabled-fill-color);\n",
              "    box-shadow: none;\n",
              "  }\n",
              "\n",
              "  .colab-df-spinner {\n",
              "    border: 2px solid var(--fill-color);\n",
              "    border-color: transparent;\n",
              "    border-bottom-color: var(--fill-color);\n",
              "    animation:\n",
              "      spin 1s steps(1) infinite;\n",
              "  }\n",
              "\n",
              "  @keyframes spin {\n",
              "    0% {\n",
              "      border-color: transparent;\n",
              "      border-bottom-color: var(--fill-color);\n",
              "      border-left-color: var(--fill-color);\n",
              "    }\n",
              "    20% {\n",
              "      border-color: transparent;\n",
              "      border-left-color: var(--fill-color);\n",
              "      border-top-color: var(--fill-color);\n",
              "    }\n",
              "    30% {\n",
              "      border-color: transparent;\n",
              "      border-left-color: var(--fill-color);\n",
              "      border-top-color: var(--fill-color);\n",
              "      border-right-color: var(--fill-color);\n",
              "    }\n",
              "    40% {\n",
              "      border-color: transparent;\n",
              "      border-right-color: var(--fill-color);\n",
              "      border-top-color: var(--fill-color);\n",
              "    }\n",
              "    60% {\n",
              "      border-color: transparent;\n",
              "      border-right-color: var(--fill-color);\n",
              "    }\n",
              "    80% {\n",
              "      border-color: transparent;\n",
              "      border-right-color: var(--fill-color);\n",
              "      border-bottom-color: var(--fill-color);\n",
              "    }\n",
              "    90% {\n",
              "      border-color: transparent;\n",
              "      border-bottom-color: var(--fill-color);\n",
              "    }\n",
              "  }\n",
              "</style>\n",
              "\n",
              "  <script>\n",
              "    async function quickchart(key) {\n",
              "      const quickchartButtonEl =\n",
              "        document.querySelector('#' + key + ' button');\n",
              "      quickchartButtonEl.disabled = true;  // To prevent multiple clicks.\n",
              "      quickchartButtonEl.classList.add('colab-df-spinner');\n",
              "      try {\n",
              "        const charts = await google.colab.kernel.invokeFunction(\n",
              "            'suggestCharts', [key], {});\n",
              "      } catch (error) {\n",
              "        console.error('Error during call to suggestCharts:', error);\n",
              "      }\n",
              "      quickchartButtonEl.classList.remove('colab-df-spinner');\n",
              "      quickchartButtonEl.classList.add('colab-df-quickchart-complete');\n",
              "    }\n",
              "    (() => {\n",
              "      let quickchartButtonEl =\n",
              "        document.querySelector('#df-b13c94f2-fb17-4cbe-a3c1-25ec7e76bb04 button');\n",
              "      quickchartButtonEl.style.display =\n",
              "        google.colab.kernel.accessAllowed ? 'block' : 'none';\n",
              "    })();\n",
              "  </script>\n",
              "</div>\n",
              "    </div>\n",
              "  </div>\n"
            ]
          },
          "metadata": {},
          "execution_count": 7
        }
      ]
    },
    {
      "cell_type": "code",
      "source": [
        "users_books_pivot_matrix_df = users_books_pivot_matrix_df.values\n",
        "users_books_pivot_matrix_df"
      ],
      "metadata": {
        "execution": {
          "iopub.status.busy": "2021-11-03T17:54:41.316112Z",
          "iopub.execute_input": "2021-11-03T17:54:41.316357Z",
          "iopub.status.idle": "2021-11-03T17:54:41.321885Z",
          "shell.execute_reply.started": "2021-11-03T17:54:41.316329Z",
          "shell.execute_reply": "2021-11-03T17:54:41.321135Z"
        },
        "trusted": true,
        "colab": {
          "base_uri": "https://localhost:8080/"
        },
        "id": "EyOZ5gWAL6TM",
        "outputId": "250f2689-c5ae-4254-91dd-f8a73639bd43"
      },
      "execution_count": null,
      "outputs": [
        {
          "output_type": "execute_result",
          "data": {
            "text/plain": [
              "array([[0., 0., 0., ..., 0., 0., 0.],\n",
              "       [0., 0., 0., ..., 0., 0., 0.],\n",
              "       [0., 0., 0., ..., 0., 0., 0.],\n",
              "       ...,\n",
              "       [0., 0., 0., ..., 0., 0., 0.],\n",
              "       [0., 0., 0., ..., 0., 0., 0.],\n",
              "       [0., 0., 0., ..., 0., 0., 0.]])"
            ]
          },
          "metadata": {},
          "execution_count": 8
        }
      ]
    },
    {
      "cell_type": "code",
      "source": [
        "from scipy.sparse.linalg import svds\n",
        "\n",
        "NUMBER_OF_FACTORS_MF = 15\n",
        "\n",
        "#Performs matrix factorization of the original user item matrix\n",
        "U, sigma, Vt = svds(users_books_pivot_matrix_df, k = NUMBER_OF_FACTORS_MF)"
      ],
      "metadata": {
        "execution": {
          "iopub.status.busy": "2021-11-03T17:54:41.322816Z",
          "iopub.execute_input": "2021-11-03T17:54:41.323443Z",
          "iopub.status.idle": "2021-11-03T17:55:05.375786Z",
          "shell.execute_reply.started": "2021-11-03T17:54:41.323403Z",
          "shell.execute_reply": "2021-11-03T17:55:05.374767Z"
        },
        "trusted": true,
        "id": "LmlDr8SwL6TN"
      },
      "execution_count": null,
      "outputs": []
    },
    {
      "cell_type": "code",
      "source": [
        "sigma = np.diag(sigma)\n",
        "sigma.shape"
      ],
      "metadata": {
        "execution": {
          "iopub.status.busy": "2021-11-03T17:55:05.382323Z",
          "iopub.execute_input": "2021-11-03T17:55:05.385443Z",
          "iopub.status.idle": "2021-11-03T17:55:05.396432Z",
          "shell.execute_reply.started": "2021-11-03T17:55:05.385357Z",
          "shell.execute_reply": "2021-11-03T17:55:05.395382Z"
        },
        "trusted": true,
        "colab": {
          "base_uri": "https://localhost:8080/"
        },
        "id": "BKVwI0xOL6TN",
        "outputId": "3f53ec9c-4b58-46f4-a4a2-fd4913526c36"
      },
      "execution_count": null,
      "outputs": [
        {
          "output_type": "execute_result",
          "data": {
            "text/plain": [
              "(15, 15)"
            ]
          },
          "metadata": {},
          "execution_count": 10
        }
      ]
    },
    {
      "cell_type": "code",
      "source": [
        "all_user_predicted_ratings = np.dot(np.dot(U, sigma), Vt)\n",
        "all_user_predicted_ratings"
      ],
      "metadata": {
        "execution": {
          "iopub.status.busy": "2021-11-03T17:55:05.398782Z",
          "iopub.execute_input": "2021-11-03T17:55:05.399687Z",
          "iopub.status.idle": "2021-11-03T17:55:06.338671Z",
          "shell.execute_reply.started": "2021-11-03T17:55:05.399630Z",
          "shell.execute_reply": "2021-11-03T17:55:06.337814Z"
        },
        "trusted": true,
        "colab": {
          "base_uri": "https://localhost:8080/"
        },
        "id": "hwSoDihXL6TO",
        "outputId": "5d1b8a08-af4e-4bc4-fb13-c063a5859321"
      },
      "execution_count": null,
      "outputs": [
        {
          "output_type": "execute_result",
          "data": {
            "text/plain": [
              "array([[ 3.59166639e-32,  6.44170618e-21, -1.37991504e-32, ...,\n",
              "         0.00000000e+00,  4.46752588e-18,  0.00000000e+00],\n",
              "       [-6.85596679e-33,  3.00007063e-19, -9.71219024e-32, ...,\n",
              "         0.00000000e+00, -6.05278616e-19,  0.00000000e+00],\n",
              "       [-3.73142601e-33,  2.21270113e-21, -5.41291150e-33, ...,\n",
              "         0.00000000e+00, -1.86897340e-18,  0.00000000e+00],\n",
              "       ...,\n",
              "       [ 9.22037932e-20, -1.00231081e-05,  1.74038361e-19, ...,\n",
              "         0.00000000e+00, -7.46833774e-05,  0.00000000e+00],\n",
              "       [ 3.52812807e-20, -6.87014646e-07,  3.31696250e-19, ...,\n",
              "         0.00000000e+00, -8.03444602e-07,  0.00000000e+00],\n",
              "       [ 3.77468452e-21,  3.19644223e-07,  6.43902567e-20, ...,\n",
              "         0.00000000e+00,  1.72992889e-05,  0.00000000e+00]])"
            ]
          },
          "metadata": {},
          "execution_count": 11
        }
      ]
    },
    {
      "cell_type": "code",
      "source": [
        "def top_cosine_similarity(data, book_id, top_n=10):\n",
        "    if book_id >= data.shape[0]:\n",
        "        print(\"Invalid book_id. It is out of bounds for the data array.\")\n",
        "        return []\n",
        "\n",
        "    book_row = data[book_id, :]\n",
        "    magnitude = np.sqrt(np.einsum('ij, ij -> i', data, data))\n",
        "    similarity = np.dot(book_row, data.T) / (magnitude[book_id] * magnitude)\n",
        "    sort_indexes = np.argsort(-similarity)\n",
        "    return sort_indexes[:top_n]\n",
        "\n",
        "def similar_books(book_user_rating, book_id, top_indexes):\n",
        "    if not top_indexes:\n",
        "        print(\"No recommendations available for the given book_id.\")\n",
        "        return\n",
        "\n",
        "    print('Recommendations for {0}:\\n'.format(\n",
        "        book_user_rating[book_user_rating.unique_id_book == book_id]['Book-Title'].values[0]))\n",
        "\n",
        "    for id in top_indexes:\n",
        "        print(book_user_rating[book_user_rating.unique_id_book == id]['Book-Title'].values[0])"
      ],
      "metadata": {
        "execution": {
          "iopub.status.busy": "2021-11-03T17:55:06.344572Z",
          "iopub.execute_input": "2021-11-03T17:55:06.348275Z",
          "iopub.status.idle": "2021-11-03T17:55:06.359630Z",
          "shell.execute_reply.started": "2021-11-03T17:55:06.348188Z",
          "shell.execute_reply": "2021-11-03T17:55:06.358687Z"
        },
        "trusted": true,
        "id": "NSSQSp5jL6TO"
      },
      "execution_count": null,
      "outputs": []
    },
    {
      "cell_type": "code",
      "source": [
        "k = 50\n",
        "movie_id = 25954\n",
        "top_n = 3\n",
        "\n",
        "# Assuming \"sliced\" is a 2D array with shape (9560, k)\n",
        "sliced = Vt.T[:, :k]  # representative data\n",
        "\n",
        "top_indexes = top_cosine_similarity(sliced, movie_id, top_n)\n",
        "similar_books(book_user_rating, movie_id, top_indexes)\n"
      ],
      "metadata": {
        "execution": {
          "iopub.status.busy": "2021-11-03T17:55:06.365446Z",
          "iopub.execute_input": "2021-11-03T17:55:06.368358Z",
          "iopub.status.idle": "2021-11-03T17:55:06.396810Z",
          "shell.execute_reply.started": "2021-11-03T17:55:06.368294Z",
          "shell.execute_reply": "2021-11-03T17:55:06.395789Z"
        },
        "trusted": true,
        "colab": {
          "base_uri": "https://localhost:8080/"
        },
        "id": "evvnrtbKL6TP",
        "outputId": "7bc13686-a165-4aa7-b8f6-b5a648961751"
      },
      "execution_count": null,
      "outputs": [
        {
          "output_type": "stream",
          "name": "stdout",
          "text": [
            "Invalid book_id. It is out of bounds for the data array.\n",
            "No recommendations available for the given book_id.\n"
          ]
        }
      ]
    }
  ]
}